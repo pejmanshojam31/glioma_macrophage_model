{
 "cells": [
  {
   "cell_type": "code",
   "execution_count": 6,
   "metadata": {},
   "outputs": [],
   "source": [
    "import sys\n",
    "from pathlib import Path\n",
    "\n",
    "# Add the src directory to the Python path\n",
    "project_path = Path().resolve().parent  # Adjust if necessary\n",
    "sys.path.append(str(project_path / 'src'))"
   ]
  },
  {
   "cell_type": "code",
   "execution_count": 9,
   "metadata": {},
   "outputs": [
    {
     "name": "stdout",
     "output_type": "stream",
     "text": [
      "Cross-Validation MSE Scores:\n",
      "Linear Regression: 10.5610\n",
      "Lasso: 15.3092\n",
      "Decision Tree: 3.6807\n",
      "Random Forest: 1.8829\n",
      "Gradient Boosting: 2.2721\n",
      "SVR: 2.5462\n",
      "KNN: 2.8493\n",
      "Elastic Net: 17.9841\n",
      "XGBoost: 1.9103\n",
      "\n",
      "Training MSE Scores:\n",
      "Linear Regression: 10.4746\n",
      "Lasso: 15.2246\n",
      "Decision Tree: 0.0000\n",
      "Random Forest: 0.2712\n",
      "Gradient Boosting: 2.0130\n",
      "SVR: 2.4997\n",
      "KNN: 1.9059\n",
      "Elastic Net: 17.8699\n",
      "XGBoost: 0.8276\n",
      "\n",
      "Test MSE Scores:\n",
      "Linear Regression: 10.8528\n",
      "Lasso: 15.8764\n",
      "Decision Tree: 3.5322\n",
      "Random Forest: 1.8959\n",
      "Gradient Boosting: 2.3276\n",
      "SVR: 2.6828\n",
      "KNN: 2.8168\n",
      "Elastic Net: 18.5861\n",
      "XGBoost: 1.9405\n"
     ]
    }
   ],
   "source": [
    "from ModelSelector  import ModelSelector  # Save the class in model_selector.py\n",
    "import pandas as pd\n",
    "\n",
    "df2 = pd.read_csv('../data/preprocessed_dataset.csv')\n",
    "# Prepare your data (replace X and Y with your actual data)\n",
    "X = df2.drop(columns=[\n",
    "    \"param_b\", \"param_d\", \"param_h2\", \"param_r\", \"param_h3\", \"param_Dm\", \"param_ts\",\n",
    "    \"param_S\", \"IW\", \"p_1\", \"p_2\", \"p_3\", \"p_4\", \"p_5\", \"m1_1\", \"m1_2\", \"m1_3\", \n",
    "    \"m1_4\", \"m1_5\", \"m2_1\", \"m2_2\", \"m2_3\", \"m2_4\", \"m2_5\", \"m1_rand1\", \"m1_rand2\", \n",
    "    \"m1_rand3\", \"m1_rand4\", \"m1_rand5\", \"m2_rand1\", \"m2_rand2\", \"m2_rand3\", \n",
    "    \"m2_rand4\", \"m2_rand5\", \"m2_m1_ratio_2\", \"m2_m1_ratio_3\", \"m2_m1_ratio_4\", \n",
    "    \"IW_after_3_months\", \"IW_after_6_months\", \"IW_after_12_months\"\n",
    "])\n",
    "Y = df2['IW_after_3_months'].values\n",
    "\n",
    "# Initialize the ModelSelector\n",
    "selector = ModelSelector(X, Y)\n",
    "\n",
    "# Perform cross-validation\n",
    "selector.perform_cross_validation()\n",
    "\n",
    "# Train and evaluate models\n",
    "selector.evaluate_models()\n",
    "\n",
    "# Display results\n",
    "selector.display_results()\n"
   ]
  },
  {
   "cell_type": "code",
   "execution_count": 4,
   "metadata": {},
   "outputs": [
    {
     "name": "stdout",
     "output_type": "stream",
     "text": [
      "c:\\Users\\pejma\\Nextcloud\\PDE model\\Revise3\\folder\\notebooks\n",
      "e:\\Users\\pejma\\anaconda3\\python312.zip\n",
      "e:\\Users\\pejma\\anaconda3\\DLLs\n",
      "e:\\Users\\pejma\\anaconda3\\Lib\n",
      "e:\\Users\\pejma\\anaconda3\n",
      "\n",
      "C:\\Users\\pejma\\AppData\\Roaming\\Python\\Python312\\site-packages\n",
      "e:\\Users\\pejma\\anaconda3\\Lib\\site-packages\n",
      "e:\\Users\\pejma\\anaconda3\\Lib\\site-packages\\win32\n",
      "e:\\Users\\pejma\\anaconda3\\Lib\\site-packages\\win32\\lib\n",
      "e:\\Users\\pejma\\anaconda3\\Lib\\site-packages\\Pythonwin\n",
      "C:\\Users\\pejma\\Nextcloud\\PDE model\\Revise3\\folder\\src\n",
      "C:\\Users\\pejma\\Nextcloud\\PDE model\\Revise3\\folder\\src\n"
     ]
    }
   ],
   "source": [
    "import sys\n",
    "print(\"\\n\".join(sys.path))"
   ]
  }
 ],
 "metadata": {
  "kernelspec": {
   "display_name": "base",
   "language": "python",
   "name": "python3"
  },
  "language_info": {
   "codemirror_mode": {
    "name": "ipython",
    "version": 3
   },
   "file_extension": ".py",
   "mimetype": "text/x-python",
   "name": "python",
   "nbconvert_exporter": "python",
   "pygments_lexer": "ipython3",
   "version": "3.12.4"
  }
 },
 "nbformat": 4,
 "nbformat_minor": 2
}
